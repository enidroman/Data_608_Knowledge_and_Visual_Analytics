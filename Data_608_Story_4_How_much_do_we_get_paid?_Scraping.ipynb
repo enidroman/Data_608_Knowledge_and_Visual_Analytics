{
  "nbformat": 4,
  "nbformat_minor": 0,
  "metadata": {
    "colab": {
      "provenance": [],
      "authorship_tag": "ABX9TyN+2jngm64psoMVDuvzV1n7",
      "include_colab_link": true
    },
    "kernelspec": {
      "name": "python3",
      "display_name": "Python 3"
    },
    "language_info": {
      "name": "python"
    }
  },
  "cells": [
    {
      "cell_type": "markdown",
      "metadata": {
        "id": "view-in-github",
        "colab_type": "text"
      },
      "source": [
        "<a href=\"https://colab.research.google.com/github/enidroman/Data_608_Knowledge_and_Visual_Analytics/blob/main/Data_608_Story_4_How_much_do_we_get_paid%3F_Scraping.ipynb\" target=\"_parent\"><img src=\"https://colab.research.google.com/assets/colab-badge.svg\" alt=\"Open In Colab\"/></a>"
      ]
    },
    {
      "cell_type": "code",
      "execution_count": null,
      "metadata": {
        "id": "D-wrpukRntkw"
      },
      "outputs": [],
      "source": [
        "# Import packages needed for scraping.\n",
        "import re\n",
        "import csv\n",
        "import json\n",
        "from time import sleep\n",
        "from bs4 import BeautifulSoup\n",
        "import requests\n",
        "import pandas as pd"
      ]
    },
    {
      "cell_type": "markdown",
      "source": [
        "I scraped the information I needed from salary.com."
      ],
      "metadata": {
        "id": "tBPLYdfKGhUk"
      }
    },
    {
      "cell_type": "code",
      "source": [
        "def extract_salary_info(job_title, job_state):\n",
        "  \"\"\"Extract and return salary information\"\"\"\n",
        "  template = 'https://www.salary.com/research/salary/listing/{}-salary/{}'\n",
        "  url = template.format (job_title, job_state)\n",
        "  try:\n",
        "    response = requests.get(url)\n",
        "    if response.status_code != 200:\n",
        "      return None\n",
        "  except requests.exceptions.ConnectionError:\n",
        "    return None\n",
        "  soup = BeautifulSoup(response. text, 'html.parser')\n",
        "  pattern = re.compile(r'Occupation')\n",
        "  script = soup.find('script', {'type':'application/ld+json'}, text = pattern)\n",
        "  json_raw = script.contents[0]\n",
        "  json_data = json.loads(json_raw)\n",
        "\n",
        "  job_title = json_data['name']\n",
        "  location = json_data['occupationLocation'][0]['name']\n",
        "  description = json_data['description']\n",
        "\n",
        "  ntile_10 = json_data['estimatedSalary'][0]['percentile10']\n",
        "  ntile_25 = json_data['estimatedSalary'][0]['percentile25']\n",
        "  ntile_50 = json_data['estimatedSalary'][0]['median']\n",
        "  ntile_75 = json_data['estimatedSalary'][0]['percentile75']\n",
        "  ntile_90 = json_data['estimatedSalary'][0]['percentile90']\n",
        "\n",
        "  salary_data = (job_title, location, description, ntile_10, ntile_25, ntile_50, ntile_75, ntile_90)\n",
        "  return salary_data"
      ],
      "metadata": {
        "id": "-525zNfYn5VV"
      },
      "execution_count": null,
      "outputs": []
    },
    {
      "cell_type": "code",
      "source": [
        "def main(job_title):\n",
        "    \"\"\"Extract salary data from all states\"\"\"\n",
        "\n",
        "    # get the list of us states\n",
        "    states = pd.read_csv('https://raw.githubusercontent.com/enidroman/Data_608_Knowledge_and_Visual_Analytics/main/State.csv')\n",
        "\n",
        "    states = states['Abbreviation'].tolist()\n",
        "\n",
        "    # extract salary data for each state\n",
        "    salary_data = []\n",
        "    for state in states:\n",
        "        result = extract_salary_info(job_title, state)\n",
        "        if result:\n",
        "            salary_data.append(result)\n",
        "            sleep(0.5)\n",
        "\n",
        "    # save data to csv file\n",
        "    with open('salary-state-results.csv', 'a', newline='', encoding='utf-8') as f:\n",
        "        writer = csv.writer(f)\n",
        "        # Only write the header if the file is empty\n",
        "        if f.tell() == 0:\n",
        "            writer.writerow(['Title','Location', 'Description', 'nTile10', 'nTile25', 'nTile50', 'nTile75', 'nTile90'])\n",
        "        writer.writerows(salary_data)\n",
        "\n",
        "    return salary_data"
      ],
      "metadata": {
        "id": "z_2Lkuz0r-uj"
      },
      "execution_count": null,
      "outputs": []
    },
    {
      "cell_type": "code",
      "source": [
        "data_scientist = main('data-scientist')"
      ],
      "metadata": {
        "colab": {
          "base_uri": "https://localhost:8080/"
        },
        "id": "4cVv3IvNsLXd",
        "outputId": "1d390ae9-a841-400a-bee3-7f3125958580"
      },
      "execution_count": null,
      "outputs": [
        {
          "output_type": "stream",
          "name": "stderr",
          "text": [
            "<ipython-input-61-7bea8ff12a00>:13: DeprecationWarning: The 'text' argument to find()-type methods is deprecated. Use 'string' instead.\n",
            "  script = soup.find('script', {'type':'application/ld+json'}, text = pattern)\n"
          ]
        }
      ]
    },
    {
      "cell_type": "code",
      "source": [
        "data_analyst = main('data-analyst')"
      ],
      "metadata": {
        "colab": {
          "base_uri": "https://localhost:8080/"
        },
        "id": "R9akZ2cgsM7i",
        "outputId": "f94ceca8-3cb3-4797-ec5b-418bff6a06ae"
      },
      "execution_count": null,
      "outputs": [
        {
          "output_type": "stream",
          "name": "stderr",
          "text": [
            "<ipython-input-61-7bea8ff12a00>:13: DeprecationWarning: The 'text' argument to find()-type methods is deprecated. Use 'string' instead.\n",
            "  script = soup.find('script', {'type':'application/ld+json'}, text = pattern)\n"
          ]
        }
      ]
    },
    {
      "cell_type": "code",
      "source": [
        "bi = main('data-engineer')"
      ],
      "metadata": {
        "colab": {
          "base_uri": "https://localhost:8080/"
        },
        "id": "Au9_OaiJsXfU",
        "outputId": "3d37fe10-02ba-46a8-b5f2-cfa66d4959e5"
      },
      "execution_count": null,
      "outputs": [
        {
          "output_type": "stream",
          "name": "stderr",
          "text": [
            "<ipython-input-61-7bea8ff12a00>:13: DeprecationWarning: The 'text' argument to find()-type methods is deprecated. Use 'string' instead.\n",
            "  script = soup.find('script', {'type':'application/ld+json'}, text = pattern)\n"
          ]
        }
      ]
    },
    {
      "cell_type": "code",
      "source": [
        "arch = main('data-architect')"
      ],
      "metadata": {
        "colab": {
          "base_uri": "https://localhost:8080/"
        },
        "id": "-FBpSydEsi6k",
        "outputId": "c9c5d956-6333-4d31-e473-015a060275f0"
      },
      "execution_count": null,
      "outputs": [
        {
          "output_type": "stream",
          "name": "stderr",
          "text": [
            "<ipython-input-61-7bea8ff12a00>:13: DeprecationWarning: The 'text' argument to find()-type methods is deprecated. Use 'string' instead.\n",
            "  script = soup.find('script', {'type':'application/ld+json'}, text = pattern)\n"
          ]
        }
      ]
    },
    {
      "cell_type": "code",
      "source": [
        "business = main('business-analyst')"
      ],
      "metadata": {
        "colab": {
          "base_uri": "https://localhost:8080/"
        },
        "id": "sejAJb3ysq0S",
        "outputId": "c1f03700-5340-4a4b-9f43-7957b6daa400"
      },
      "execution_count": null,
      "outputs": [
        {
          "output_type": "stream",
          "name": "stderr",
          "text": [
            "<ipython-input-61-7bea8ff12a00>:13: DeprecationWarning: The 'text' argument to find()-type methods is deprecated. Use 'string' instead.\n",
            "  script = soup.find('script', {'type':'application/ld+json'}, text = pattern)\n"
          ]
        }
      ]
    },
    {
      "cell_type": "code",
      "source": [
        "ml_engineer = main('machine-learning-engineer')"
      ],
      "metadata": {
        "id": "tQazFcNVtEcg"
      },
      "execution_count": null,
      "outputs": []
    }
  ]
}